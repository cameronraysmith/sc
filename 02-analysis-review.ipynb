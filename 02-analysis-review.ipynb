{
 "cells": [
  {
   "cell_type": "markdown",
   "id": "59520860-b69b-4e5d-a049-2325c3e70e5b",
   "metadata": {
    "slideshow": {
     "slide_type": "slide"
    },
    "tags": []
   },
   "source": [
    "# Basic single-cell analysis"
   ]
  },
  {
   "cell_type": "markdown",
   "id": "d6950c1b-5cbb-4be5-83c4-9029d7f3d969",
   "metadata": {
    "slideshow": {
     "slide_type": "subslide"
    },
    "tags": []
   },
   "source": [
    "## Overview"
   ]
  },
  {
   "cell_type": "markdown",
   "id": "a1591584-6e8d-4d2f-aef6-4a7269e352aa",
   "metadata": {
    "slideshow": {
     "slide_type": "fragment"
    },
    "tags": []
   },
   "source": [
    "In this notebook, we will illustrate a simple instance of single-nucleus RNA sequencing analysis using data from the following paper\n",
    "\n",
    "> Melms JC, Biermann J, Huang H, Wang Y, Nair A, Tagore S, et al.\n",
    "A molecular single-cell lung atlas of lethal COVID-19.\n",
    "Nature. 2021;595: 114–119. [doi:10.1038/s41586-021-03569-0](https://doi.org/10.1038/s41586-021-03569-0)\n",
    "\n",
    "This paper examined 116,000 nuclei from the lungs of nineteen patients who underwent autopsy following death in association with COVID-19. Findings reported in the abstract of the paper include:\n",
    "\n",
    "1. activated monocyte-derived macrophages and alveolar macrophages\n",
    "1. impaired T cell activation\n",
    "1. monocyte/macrophage-derived interleukin-1β and epithelial cell-derived interleukin-6\n",
    "1. alveolar type 2 cells adopted an inflammation-associated transient progenitor cell state and failed to undergo full transition into alveolar type 1 cells\n",
    "1. expansion of CTHRC1+ pathological fibroblasts\n",
    "1. protein activity and ligand–receptor interactions suggest putative drug targets\n"
   ]
  },
  {
   "cell_type": "markdown",
   "id": "1bf91286-2ec3-45a5-960f-349c7ab00e92",
   "metadata": {
    "incorrectly_encoded_metadata": "tags=[] slideshow={\"slide_type\": \"slide\"} jp-MarkdownHeadingCollapsed=true",
    "slideshow": {
     "slide_type": "slide"
    },
    "tags": []
   },
   "source": [
    "## Setup"
   ]
  },
  {
   "cell_type": "markdown",
   "id": "37d85862-f21b-486e-abb7-6331cb0c8431",
   "metadata": {
    "incorrectly_encoded_metadata": "tags=[] slideshow={\"slide_type\": \"subslide\"} jp-MarkdownHeadingCollapsed=true",
    "slideshow": {
     "slide_type": "subslide"
    },
    "tags": []
   },
   "source": [
    "### Import libraries"
   ]
  },
  {
   "cell_type": "code",
   "execution_count": 1,
   "id": "f9a8d232-554e-4456-a18f-2c2093c3d552",
   "metadata": {
    "execution": {
     "iopub.execute_input": "2022-09-25T04:22:54.340432Z",
     "iopub.status.busy": "2022-09-25T04:22:54.340114Z",
     "iopub.status.idle": "2022-09-25T04:22:56.592231Z",
     "shell.execute_reply": "2022-09-25T04:22:56.591484Z",
     "shell.execute_reply.started": "2022-09-25T04:22:54.340361Z"
    },
    "slideshow": {
     "slide_type": "fragment"
    },
    "tags": []
   },
   "outputs": [],
   "source": [
    "from inspect import getmembers\n",
    "from pprint import pprint\n",
    "from types import FunctionType\n",
    "\n",
    "import scanpy as sc"
   ]
  },
  {
   "cell_type": "markdown",
   "id": "c7f0e5b1-c6bf-4339-8b24-dbcc5f20ade4",
   "metadata": {
    "incorrectly_encoded_metadata": "tags=[] slideshow={\"slide_type\": \"subslide\"} jp-MarkdownHeadingCollapsed=true",
    "slideshow": {
     "slide_type": "subslide"
    },
    "tags": []
   },
   "source": [
    "### Setup plotting"
   ]
  },
  {
   "cell_type": "code",
   "execution_count": 2,
   "id": "7753e0a8-2531-4072-bada-0ed4f1ce2424",
   "metadata": {
    "execution": {
     "iopub.execute_input": "2022-09-25T04:22:56.594334Z",
     "iopub.status.busy": "2022-09-25T04:22:56.593881Z",
     "iopub.status.idle": "2022-09-25T04:22:56.598358Z",
     "shell.execute_reply": "2022-09-25T04:22:56.597437Z",
     "shell.execute_reply.started": "2022-09-25T04:22:56.594307Z"
    },
    "slideshow": {
     "slide_type": "fragment"
    },
    "tags": []
   },
   "outputs": [],
   "source": [
    "import matplotlib.font_manager\n",
    "import matplotlib.pyplot as plt\n",
    "\n",
    "# import matplotlib_inline"
   ]
  },
  {
   "cell_type": "code",
   "execution_count": 3,
   "id": "0a66d0c4-f945-4292-af42-41a4c882c69d",
   "metadata": {
    "execution": {
     "iopub.execute_input": "2022-09-25T04:22:56.600287Z",
     "iopub.status.busy": "2022-09-25T04:22:56.599621Z",
     "iopub.status.idle": "2022-09-25T04:22:56.607062Z",
     "shell.execute_reply": "2022-09-25T04:22:56.606125Z",
     "shell.execute_reply.started": "2022-09-25T04:22:56.600253Z"
    },
    "slideshow": {
     "slide_type": "fragment"
    },
    "tags": []
   },
   "outputs": [],
   "source": [
    "# fonts_path = \"/usr/share/texmf/fonts/opentype/public/lm/\" #ubuntu\n",
    "# fonts_path = \"~/Library/Fonts/\" # macos\n",
    "fonts_path = \"/usr/share/fonts/OTF/\"  # arch\n",
    "# user_path = \"$HOME/\" # user\n",
    "# fonts_path = user_path + \"fonts/latinmodern/opentype/public/lm/\"  # home\n",
    "matplotlib.font_manager.fontManager.addfont(fonts_path + \"lmsans10-regular.otf\")\n",
    "matplotlib.font_manager.fontManager.addfont(fonts_path + \"lmroman10-regular.otf\")"
   ]
  },
  {
   "cell_type": "code",
   "execution_count": 4,
   "id": "19089090-2e39-48b9-8347-aaa8c7d73365",
   "metadata": {
    "execution": {
     "iopub.execute_input": "2022-09-25T04:22:56.608476Z",
     "iopub.status.busy": "2022-09-25T04:22:56.608149Z",
     "iopub.status.idle": "2022-09-25T04:22:56.618632Z",
     "shell.execute_reply": "2022-09-25T04:22:56.617830Z",
     "shell.execute_reply.started": "2022-09-25T04:22:56.608433Z"
    },
    "slideshow": {
     "slide_type": "fragment"
    },
    "tags": []
   },
   "outputs": [],
   "source": [
    "# https://stackoverflow.com/a/36622238/446907\n",
    "%config InlineBackend.figure_formats = ['svg']"
   ]
  },
  {
   "cell_type": "code",
   "execution_count": 5,
   "id": "e2ee4e70-7272-4ae2-9f15-c9d9401175de",
   "metadata": {
    "execution": {
     "iopub.execute_input": "2022-09-25T04:22:56.621301Z",
     "iopub.status.busy": "2022-09-25T04:22:56.620627Z",
     "iopub.status.idle": "2022-09-25T04:22:56.626328Z",
     "shell.execute_reply": "2022-09-25T04:22:56.625612Z",
     "shell.execute_reply.started": "2022-09-25T04:22:56.621277Z"
    },
    "slideshow": {
     "slide_type": "fragment"
    },
    "tags": []
   },
   "outputs": [],
   "source": [
    "plt.style.use(\"default\")  # reset default parameters\n",
    "# https://stackoverflow.com/a/3900167/446907\n",
    "plt.rcParams.update(\n",
    "    {\n",
    "        \"font.size\": 16,\n",
    "        \"font.family\": [\"sans-serif\"],\n",
    "        \"font.serif\": [\"Latin Modern Roman\"] + plt.rcParams[\"font.serif\"],\n",
    "        \"font.sans-serif\": [\"Latin Modern Sans\"] + plt.rcParams[\"font.sans-serif\"],\n",
    "    }\n",
    ")"
   ]
  },
  {
   "cell_type": "markdown",
   "id": "b276e8e9-465a-48b9-abb1-804023ad0452",
   "metadata": {
    "incorrectly_encoded_metadata": "tags=[] slideshow={\"slide_type\": \"subslide\"} jp-MarkdownHeadingCollapsed=true",
    "slideshow": {
     "slide_type": "subslide"
    },
    "tags": []
   },
   "source": [
    "### Utility functions"
   ]
  },
  {
   "cell_type": "code",
   "execution_count": 6,
   "id": "b00d10ed-2dca-4162-8b96-6b7a4e6d2495",
   "metadata": {
    "execution": {
     "iopub.execute_input": "2022-09-25T04:22:56.628064Z",
     "iopub.status.busy": "2022-09-25T04:22:56.627789Z",
     "iopub.status.idle": "2022-09-25T04:22:56.633315Z",
     "shell.execute_reply": "2022-09-25T04:22:56.632570Z",
     "shell.execute_reply.started": "2022-09-25T04:22:56.628041Z"
    },
    "slideshow": {
     "slide_type": "fragment"
    },
    "tags": []
   },
   "outputs": [],
   "source": [
    "def attributes(obj):\n",
    "    \"\"\"\n",
    "    get object attributes\n",
    "    \"\"\"\n",
    "    disallowed_names = {\n",
    "        name for name, value in getmembers(type(obj)) if isinstance(value, FunctionType)\n",
    "    }\n",
    "    return {\n",
    "        name: getattr(obj, name)\n",
    "        for name in dir(obj)\n",
    "        if name[0] != \"_\" and name not in disallowed_names and hasattr(obj, name)\n",
    "    }\n",
    "\n",
    "\n",
    "def print_attributes(obj):\n",
    "    \"\"\"\n",
    "    print object attributes\n",
    "    \"\"\"\n",
    "    pprint(attributes(obj))"
   ]
  },
  {
   "cell_type": "markdown",
   "id": "9d4bcb6b-b476-4fec-b38d-bfa91470d91a",
   "metadata": {
    "slideshow": {
     "slide_type": "slide"
    },
    "tags": []
   },
   "source": [
    "## Import data"
   ]
  },
  {
   "cell_type": "markdown",
   "id": "7237d5b8-2eed-43b6-a99d-850def235b55",
   "metadata": {
    "slideshow": {
     "slide_type": "fragment"
    },
    "tags": []
   },
   "source": [
    "Here we review how the data were downloaded, and proceed to import and inspect the data."
   ]
  },
  {
   "cell_type": "markdown",
   "id": "ef4bb28d-cb0c-404a-a23b-add821f95335",
   "metadata": {
    "slideshow": {
     "slide_type": "subslide"
    },
    "tags": []
   },
   "source": [
    "### Data download"
   ]
  },
  {
   "cell_type": "markdown",
   "id": "765825f9-3a14-4eba-9643-5cebe5f0ad62",
   "metadata": {
    "slideshow": {
     "slide_type": "fragment"
    },
    "tags": []
   },
   "source": [
    "Data with GEO accession [GSE171524](https://www.ncbi.nlm.nih.gov/geo/query/acc.cgi?acc=GSE171524) was downloaded using [./data/download_geo_data.sh](./data/download_geo_data.sh) with parameters\n",
    "\n",
    "```bash\n",
    "./download_geo_data.sh \\\n",
    "       -a GSE132771 \\\n",
    "       -f 'ftp.*RAW.*' \\\n",
    "       -j '..|.supplementary_files?|..|.url?|select(length>0)'\n",
    "```\n",
    "\n",
    "A skeleton of this script that may work in this case is\n",
    "\n",
    "```bash\n",
    "#!/usr/bin/env bash\n",
    "\n",
    "#-- debugging (comment to reduce stderr output)\n",
    "#-- https://wiki.bash-hackers.org/scripting/debuggingtips\n",
    "export PS4='+(${BASH_SOURCE}:${LINENO}): ${FUNCNAME[0]:+${FUNCNAME[0]}(): }'\n",
    "set -o xtrace\n",
    "\n",
    "# get metadata\n",
    "# Melms JC, Biermann J, Huang H, Wang Y, Nair A, Tagore S, et al.\n",
    "# A molecular single-cell lung atlas of lethal COVID-19.\n",
    "# Nature. 2021;595: 114–119. doi:10.1038/s41586-021-03569-0\n",
    "# GSE171524\n",
    "ffq -l 1 -o GSE171524.json GSE171524\n",
    "\n",
    "# download raw data\n",
    "wget ftp://ftp.ncbi.nlm.nih.gov/geo/series/GSE171nnn/GSE171524/suppl/GSE171524_RAW.tar\n",
    "\n",
    "# list contents\n",
    "tar -tvf GSE171524_RAW.tar\n",
    "\n",
    "# untar\n",
    "mkdir -p GSE171524 && \\\n",
    "tar -xvf GSE171524_RAW.tar -C GSE171524\n",
    "```"
   ]
  },
  {
   "cell_type": "markdown",
   "id": "f397a2cd-f736-4ad8-9c67-9489fb4175e4",
   "metadata": {
    "slideshow": {
     "slide_type": "subslide"
    },
    "tags": []
   },
   "source": [
    "### Data load"
   ]
  },
  {
   "cell_type": "code",
   "execution_count": 7,
   "id": "af6bd525-b037-46a1-bced-ec5c95fc27b6",
   "metadata": {
    "execution": {
     "iopub.execute_input": "2022-09-25T04:22:56.634896Z",
     "iopub.status.busy": "2022-09-25T04:22:56.634367Z",
     "iopub.status.idle": "2022-09-25T04:23:27.968178Z",
     "shell.execute_reply": "2022-09-25T04:23:27.967267Z",
     "shell.execute_reply.started": "2022-09-25T04:22:56.634871Z"
    },
    "slideshow": {
     "slide_type": "fragment"
    },
    "tags": []
   },
   "outputs": [
    {
     "data": {
      "text/plain": [
       "AnnData object with n_obs × n_vars = 6099 × 34546"
      ]
     },
     "execution_count": 7,
     "metadata": {},
     "output_type": "execute_result"
    }
   ],
   "source": [
    "adata = None\n",
    "adata = sc.read_csv(\"data/GSE171524/supplementary/GSM5226574_C51ctr_raw_counts.csv.gz\").T\n",
    "adata"
   ]
  },
  {
   "cell_type": "markdown",
   "id": "1fc1706e-ed40-4e3f-aac1-9177f7bc3d8c",
   "metadata": {
    "slideshow": {
     "slide_type": "fragment"
    },
    "tags": []
   },
   "source": [
    "Note the `scanpy.read_csv` function accepts gzipped files."
   ]
  },
  {
   "cell_type": "markdown",
   "id": "2c91ab10-ff83-46f4-84b1-98434d7a7331",
   "metadata": {
    "slideshow": {
     "slide_type": "subslide"
    },
    "tags": []
   },
   "source": [
    "### Data properties"
   ]
  },
  {
   "cell_type": "code",
   "execution_count": 8,
   "id": "681493e8-c15c-479a-bab8-b2f0e4a83c63",
   "metadata": {
    "execution": {
     "iopub.execute_input": "2022-09-25T04:23:43.205691Z",
     "iopub.status.busy": "2022-09-25T04:23:43.204631Z",
     "iopub.status.idle": "2022-09-25T04:23:43.212649Z",
     "shell.execute_reply": "2022-09-25T04:23:43.211766Z",
     "shell.execute_reply.started": "2022-09-25T04:23:43.205645Z"
    },
    "slideshow": {
     "slide_type": "fragment"
    },
    "tags": []
   },
   "outputs": [
    {
     "data": {
      "text/plain": [
       "anndata._core.anndata.AnnData"
      ]
     },
     "execution_count": 8,
     "metadata": {},
     "output_type": "execute_result"
    }
   ],
   "source": [
    "type(adata)"
   ]
  },
  {
   "cell_type": "code",
   "execution_count": 9,
   "id": "54c464a4-3ce7-4ab9-8908-b75169b25f7e",
   "metadata": {
    "execution": {
     "iopub.execute_input": "2022-09-25T04:23:51.062344Z",
     "iopub.status.busy": "2022-09-25T04:23:51.061969Z",
     "iopub.status.idle": "2022-09-25T04:23:51.069282Z",
     "shell.execute_reply": "2022-09-25T04:23:51.068266Z",
     "shell.execute_reply.started": "2022-09-25T04:23:51.062314Z"
    },
    "tags": []
   },
   "outputs": [
    {
     "data": {
      "text/plain": [
       "anndata._core.anndata.AnnData"
      ]
     },
     "execution_count": 9,
     "metadata": {},
     "output_type": "execute_result"
    }
   ],
   "source": [
    "type(adata.T)"
   ]
  },
  {
   "cell_type": "code",
   "execution_count": 10,
   "id": "27b0621a-22d8-411d-a5fb-527c580280b2",
   "metadata": {
    "execution": {
     "iopub.execute_input": "2022-09-25T04:23:55.783361Z",
     "iopub.status.busy": "2022-09-25T04:23:55.782991Z",
     "iopub.status.idle": "2022-09-25T04:23:55.797978Z",
     "shell.execute_reply": "2022-09-25T04:23:55.797111Z",
     "shell.execute_reply.started": "2022-09-25T04:23:55.783332Z"
    },
    "slideshow": {
     "slide_type": "fragment"
    },
    "tags": []
   },
   "outputs": [
    {
     "name": "stdout",
     "output_type": "stream",
     "text": [
      "{'T': AnnData object with n_obs × n_vars = 34546 × 6099,\n",
      " 'X': array([[0., 0., 0., ..., 0., 0., 0.],\n",
      "       [0., 0., 0., ..., 0., 0., 0.],\n",
      "       [0., 0., 0., ..., 0., 0., 0.],\n",
      "       ...,\n",
      "       [0., 0., 0., ..., 0., 0., 0.],\n",
      "       [0., 0., 0., ..., 0., 0., 0.],\n",
      "       [0., 0., 0., ..., 0., 0., 0.]], dtype=float32),\n",
      " 'file': Backing file manager: no file is set.,\n",
      " 'filename': None,\n",
      " 'is_view': False,\n",
      " 'isbacked': False,\n",
      " 'isview': False,\n",
      " 'layers': Layers with keys: ,\n",
      " 'n_obs': 6099,\n",
      " 'n_vars': 34546,\n",
      " 'obs': Empty DataFrame\n",
      "Columns: []\n",
      "Index: [TAGGTACCATGGCCAC-1_1, ATTCACTGTAACAGGC-1_1, TAACTTCCAACCACGC-1_1, TTGGGTACACGACAAG-1_1, AGGCCACAGAGTCACG-1_1, CACTGAAGTCGAAGCA-1_1, ACTGATGTCTGCACCT-1_1, TTACCGCCACTCAGAT-1_1, TTGGTTTTCCTAGCTC-1_1, TGGGAAGTCAGTGATC-1_1, CCACGAGTCTCTTAAC-1_1, ACTTCCGCACAACGCC-1_1, GGGAAGTAGCGACCCT-1_1, TGGTAGTTCCCGTGTT-1_1, CGCATAACATGCCGGT-1_1, TCTATCACAAGGCTTT-1_1, ATCCACCAGAGGTATT-1_1, TAACGACAGATGACCG-1_1, TCTTAGTGTATGAGGC-1_1, CACTTCGCAGTACTAC-1_1, GTCAAACAGAACGTGC-1_1, GCAACCGAGGGCAGGA-1_1, CATACTTTCATCACTT-1_1, AAGAACATCGGATTAC-1_1, GGGTATTGTACGATGG-1_1, CTGTAGATCAACGTGT-1_1, GTCATTTGTATCTCGA-1_1, CCTTGTGCAGAGGGTT-1_1, AAGTTCGCAACACGTT-1_1, TCATTCACAAATCAAG-1_1, TCCATGCCAACGACTT-1_1, TCCTTCTCAGTTTCAG-1_1, TGTGAGTCAAATGATG-1_1, AAACGAAGTACAGAGC-1_1, CAACCAAAGTATTCCG-1_1, CTTCTCTCAGAGACTG-1_1, TACAACGGTGGCTGAA-1_1, AACGGGACATGCCGGT-1_1, AACCAACGTTGGGAAC-1_1, TATATCCAGCGTCAGA-1_1, AGACAAACATCCCGTT-1_1, ATGACCAGTCTTCATT-1_1, CTTACCGTCAGACATC-1_1, CGGGACTGTTAGTTCG-1_1, ATTCATCCACTGAGTT-1_1, TCATGAGAGAGGCGGA-1_1, TCCCACATCTAGTACG-1_1, CTTCCTTCATATCTCT-1_1, CCGGACACACTCGATA-1_1, ACACGCGCACCTGTCT-1_1, GAATCGTCAGAAGTGC-1_1, GGTGGCTCAAGCTCTA-1_1, CCTGCATCACATATGC-1_1, GTGGGAAGTTAAAGTG-1_1, CGTTCTGGTACTAGCT-1_1, ACCCTCACAATAGTCC-1_1, GCCCGAACAAACTAAG-1_1, GTGGAAGCACATGACT-1_1, GTTGTGACATCGATAC-1_1, GACAGCCCAGGTCCGT-1_1, TAAGCACGTTGGCTAT-1_1, GGGACAAGTCACCACG-1_1, CTGGCAGGTTCGGTAT-1_1, GACTCAACACTGTGAT-1_1, GCCAGTGGTGTGGTCC-1_1, TCTAACTGTAGGCAGT-1_1, GAAGAATGTAGCTTGT-1_1, TCACTCGCAATCTCTT-1_1, CAAGACTTCCCACAGG-1_1, CAGATACGTGACTCTA-1_1, TGGGATTAGAGGGTCT-1_1, ACCTGAACACTCCTTG-1_1, GACACGCCACTCGATA-1_1, CTCATCGTCACCGCTT-1_1, AGGTAGGGTCCCTGTT-1_1, TACCCGTCAACACTAC-1_1, TGCTGAAAGACGGATC-1_1, ACACCAACACAACGCC-1_1, AAGATAGCAAATGGAT-1_1, CTTCAATGTGACAGGT-1_1, GAAGCGAAGAGTTGAT-1_1, GCCGTGACACAAGCCC-1_1, CCTCAACCATACAGGG-1_1, ACAAAGATCCACAGGC-1_1, CAGATACAGTCCCAGC-1_1, GGCAGTCTCCGGTTCT-1_1, TAAGTCGAGCTGAGCA-1_1, GAGACCCGTCTGTGCG-1_1, TAACACGCATGTGTCA-1_1, TCAATTCGTTCTCGCT-1_1, GCTTTCGCACAGTGTT-1_1, AACCAACAGATAACAC-1_1, ATCGGCGCACATCATG-1_1, TCATCCGCACGAGGAT-1_1, CTGATCCTCTTTACAC-1_1, TCACACCCAACTTCTT-1_1, TGAGGGACACCGTACG-1_1, GTGCACGTCATCTGTT-1_1, GGTAATCAGTTGCATC-1_1, ATACTTCCAAGGTCTT-1_1, ...]\n",
      "\n",
      "[6099 rows x 0 columns],\n",
      " 'obs_names': Index(['TAGGTACCATGGCCAC-1_1', 'ATTCACTGTAACAGGC-1_1', 'TAACTTCCAACCACGC-1_1',\n",
      "       'TTGGGTACACGACAAG-1_1', 'AGGCCACAGAGTCACG-1_1', 'CACTGAAGTCGAAGCA-1_1',\n",
      "       'ACTGATGTCTGCACCT-1_1', 'TTACCGCCACTCAGAT-1_1', 'TTGGTTTTCCTAGCTC-1_1',\n",
      "       'TGGGAAGTCAGTGATC-1_1',\n",
      "       ...\n",
      "       'AAGTCGTGTGTGAATA-1_1', 'GTCGTTCTCCAAGGGA-1_1', 'GTTTGGATCGGCCTTT-1_1',\n",
      "       'GTACAGTCACGTATAC-1_1', 'TCATGCCCAAGAGGTC-1_1', 'CGCCATTGTTTGCCGG-1_1',\n",
      "       'CACTGGGGTCTACGTA-1_1', 'CATACTTGTAGAGGAA-1_1', 'TTTGGTTTCCACGGAC-1_1',\n",
      "       'ATGCATGAGTCATGAA-1_1'],\n",
      "      dtype='object', length=6099),\n",
      " 'obsm': AxisArrays with keys: ,\n",
      " 'obsp': PairwiseArrays with keys: ,\n",
      " 'raw': None,\n",
      " 'shape': (6099, 34546),\n",
      " 'uns': OverloadedDict, wrapping:\n",
      "\tOrderedDict()\n",
      "With overloaded keys:\n",
      "\t['neighbors'].,\n",
      " 'var': Empty DataFrame\n",
      "Columns: []\n",
      "Index: [AL627309.1, AL627309.5, AL627309.4, AL669831.2, LINC01409, FAM87B, LINC01128, LINC00115, FAM41C, AL645608.6, AL645608.2, LINC02593, SAMD11, NOC2L, KLHL17, PLEKHN1, PERM1, AL645608.7, HES4, ISG15, AL645608.1, AGRN, C1orf159, AL390719.3, LINC01342, AL390719.2, TTLL10-AS1, TTLL10, TNFRSF18, TNFRSF4, SDF4, B3GALT6, C1QTNF12, UBE2J2, LINC01786, SCNN1D, ACAP3, PUSL1, INTS11, AL139287.1, CPTP, DVL1, MXRA8, AURKAIP1, CCNL2, MRPL20-AS1, MRPL20, AL391244.2, ANKRD65, AL391244.1, LINC01770, VWA1, ATAD3C, ATAD3B, ATAD3A, TMEM240, SSU72, AL645728.1, FNDC10, AL691432.4, AL691432.2, MIB2, MMP23B, CDK11B, FO704657.1, SLC35E2B, CDK11A, SLC35E2A, NADK, GNB1, AL109917.1, CALML6, TMEM52, CFAP74, GABRD, AL391845.1, PRKCZ, AL590822.2, PRKCZ-AS1, FAAP20, AL590822.1, SKI, AL590822.3, MORN1, AL589739.1, AL513477.2, RER1, PEX10, PLCH2, AL139246.4, PANK4, HES5, AL139246.5, TNFRSF14-AS1, TNFRSF14, AL139246.3, PRXL2B, MMEL1, TTC34, AC242022.2, ...]\n",
      "\n",
      "[34546 rows x 0 columns],\n",
      " 'var_names': Index(['AL627309.1', 'AL627309.5', 'AL627309.4', 'AL669831.2', 'LINC01409',\n",
      "       'FAM87B', 'LINC01128', 'LINC00115', 'FAM41C', 'AL645608.6',\n",
      "       ...\n",
      "       'AC087190.2', 'AC136428.1', 'AC019183.1', 'AC105094.1', 'AC010485.1',\n",
      "       'VN1R2', 'AL031676.1', 'SMIM34A', 'AL050402.1', 'AL445072.1'],\n",
      "      dtype='object', length=34546),\n",
      " 'varm': AxisArrays with keys: ,\n",
      " 'varp': PairwiseArrays with keys: }\n"
     ]
    },
    {
     "name": "stderr",
     "output_type": "stream",
     "text": [
      "/tmp/ipykernel_1135/22660072.py:11: DeprecationWarning: Use is_view instead of isview, isview will be removed in the future.\n",
      "  if name[0] != \"_\" and name not in disallowed_names and hasattr(obj, name)\n",
      "/tmp/ipykernel_1135/22660072.py:9: DeprecationWarning: Use is_view instead of isview, isview will be removed in the future.\n",
      "  name: getattr(obj, name)\n"
     ]
    }
   ],
   "source": [
    "print_attributes(adata)"
   ]
  },
  {
   "cell_type": "markdown",
   "id": "345e74f3-1928-47a8-ae7d-6832a9560d78",
   "metadata": {
    "slideshow": {
     "slide_type": "fragment"
    },
    "tags": []
   },
   "source": [
    "The data appears to contain reads mapped to 34546 RNA molecule-associated features and 6099 cell-associated barcodes."
   ]
  },
  {
   "cell_type": "code",
   "execution_count": null,
   "id": "b385f037-96cd-48e5-a1c8-fb141b7f1c91",
   "metadata": {},
   "outputs": [],
   "source": []
  }
 ],
 "metadata": {
  "celltoolbar": "Slideshow",
  "jupytext": {
   "cell_metadata_json": true,
   "formats": "ipynb,md,py:percent",
   "notebook_metadata_filter": "all"
  },
  "kernelspec": {
   "display_name": "Python 3 (ipykernel)",
   "language": "python",
   "name": "python3"
  },
  "language_info": {
   "codemirror_mode": {
    "name": "ipython",
    "version": 3
   },
   "file_extension": ".py",
   "mimetype": "text/x-python",
   "name": "python",
   "nbconvert_exporter": "python",
   "pygments_lexer": "ipython3",
   "version": "3.10.7"
  },
  "rise": {
   "scroll": true,
   "theme": "black"
  },
  "toc-autonumbering": true,
  "toc-showcode": false,
  "toc-showmarkdowntxt": false,
  "widgets": {
   "application/vnd.jupyter.widget-state+json": {
    "state": {},
    "version_major": 2,
    "version_minor": 0
   }
  }
 },
 "nbformat": 4,
 "nbformat_minor": 5
}
